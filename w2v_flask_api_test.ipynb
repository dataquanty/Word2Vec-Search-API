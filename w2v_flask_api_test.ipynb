{
 "cells": [
  {
   "cell_type": "code",
   "execution_count": 1,
   "metadata": {},
   "outputs": [],
   "source": [
    "import requests, json\n",
    "url = 'http://127.0.0.1:5000/api/makecalc/'"
   ]
  },
  {
   "cell_type": "code",
   "execution_count": 2,
   "metadata": {},
   "outputs": [],
   "source": [
    "text = json.dumps({\"2\":\"plate aluminium 25mm\"})"
   ]
  },
  {
   "cell_type": "code",
   "execution_count": 3,
   "metadata": {},
   "outputs": [
    {
     "name": "stdout",
     "output_type": "stream",
     "text": [
      "167 ms ± 695 µs per loop (mean ± std. dev. of 7 runs, 10 loops each)\n",
      "<Response [200]> {\n",
      "  \"2\": {\n",
      "    \"732598\": {\n",
      "      \"PrimaryDI\": \"885074439624\", \n",
      "      \"deviceDescription\": \"PLATE  9240200 35MM SPIRE\", \n",
      "      \"score\": 0.9821172998488701\n",
      "    }, \n",
      "    \"758919\": {\n",
      "      \"PrimaryDI\": \"849044084726\", \n",
      "      \"deviceDescription\": \"TRUSS Plate, 40mm\", \n",
      "      \"score\": 0.9798775626584062\n",
      "    }, \n",
      "    \"758924\": {\n",
      "      \"PrimaryDI\": \"849044084672\", \n",
      "      \"deviceDescription\": \"TRUSS Plate, 25mm\", \n",
      "      \"score\": 0.9979440152973302\n",
      "    }, \n",
      "    \"1069973\": {\n",
      "      \"PrimaryDI\": \"613994286123\", \n",
      "      \"deviceDescription\": \"PLATE 9873035 3HOLE 35MM\", \n",
      "      \"score\": 0.979658842862112\n",
      "    }, \n",
      "    \"1069977\": {\n",
      "      \"PrimaryDI\": \"613994286079\", \n",
      "      \"deviceDescription\": \"PLATE 9874035 4HOLE 35MM\", \n",
      "      \"score\": 0.9814469782987129\n",
      "    }\n",
      "  }\n",
      "}\n",
      "\n"
     ]
    }
   ],
   "source": [
    "headers = {'content-type': 'application/json', 'Accept-Charset': 'UTF-8'}\n",
    "r = requests.post(url, data=text, headers=headers)\n",
    "%timeit r = requests.post(url, data=text, headers=headers)\n",
    "print(r,r.text)"
   ]
  },
  {
   "cell_type": "code",
   "execution_count": 4,
   "metadata": {},
   "outputs": [],
   "source": [
    "text = json.dumps({\"0\":\"screw 12mm\",\"1\":\"WEIL SCREW 14MM\",\"2\":\"plate aluminium 25mm\"})"
   ]
  },
  {
   "cell_type": "code",
   "execution_count": 5,
   "metadata": {},
   "outputs": [
    {
     "name": "stdout",
     "output_type": "stream",
     "text": [
      "<Response [200]> {\n",
      "  \"0\": {\n",
      "    \"486255\": {\n",
      "      \"PrimaryDI\": \"5055662908145\", \n",
      "      \"deviceDescription\": \"WEIL SCREW 14MM\", \n",
      "      \"score\": 0.9871527832942693\n",
      "    }, \n",
      "    \"486256\": {\n",
      "      \"PrimaryDI\": \"5055662908107\", \n",
      "      \"deviceDescription\": \"WEIL SCREW 12MM\", \n",
      "      \"score\": 0.9986314439517274\n",
      "    }, \n",
      "    \"486257\": {\n",
      "      \"PrimaryDI\": \"5055662908084\", \n",
      "      \"deviceDescription\": \"WEIL SCREW 11MM\", \n",
      "      \"score\": 0.9823445840522096\n",
      "    }, \n",
      "    \"486271\": {\n",
      "      \"PrimaryDI\": \"5055662907803\", \n",
      "      \"deviceDescription\": \"SCARF SCREW 14MM\", \n",
      "      \"score\": 0.9870590792929472\n",
      "    }, \n",
      "    \"486272\": {\n",
      "      \"PrimaryDI\": \"5055662907780\", \n",
      "      \"deviceDescription\": \"SCARF SCREW 12MM\", \n",
      "      \"score\": 0.9991269598876862\n",
      "    }\n",
      "  }, \n",
      "  \"1\": {\n",
      "    \"486255\": {\n",
      "      \"PrimaryDI\": \"5055662908145\", \n",
      "      \"deviceDescription\": \"WEIL SCREW 14MM\", \n",
      "      \"score\": 0.9999999999999998\n",
      "    }, \n",
      "    \"486256\": {\n",
      "      \"PrimaryDI\": \"5055662908107\", \n",
      "      \"deviceDescription\": \"WEIL SCREW 12MM\", \n",
      "      \"score\": 0.988112687560782\n",
      "    }, \n",
      "    \"486270\": {\n",
      "      \"PrimaryDI\": \"5055662907827\", \n",
      "      \"deviceDescription\": \"SCARF SCREW 16MM\", \n",
      "      \"score\": 0.9828021748528035\n",
      "    }, \n",
      "    \"486271\": {\n",
      "      \"PrimaryDI\": \"5055662907803\", \n",
      "      \"deviceDescription\": \"SCARF SCREW 14MM\", \n",
      "      \"score\": 0.9984814497252275\n",
      "    }, \n",
      "    \"486272\": {\n",
      "      \"PrimaryDI\": \"5055662907780\", \n",
      "      \"deviceDescription\": \"SCARF SCREW 12MM\", \n",
      "      \"score\": 0.9872853962804371\n",
      "    }\n",
      "  }, \n",
      "  \"2\": {\n",
      "    \"732598\": {\n",
      "      \"PrimaryDI\": \"885074439624\", \n",
      "      \"deviceDescription\": \"PLATE  9240200 35MM SPIRE\", \n",
      "      \"score\": 0.9821172998488701\n",
      "    }, \n",
      "    \"758919\": {\n",
      "      \"PrimaryDI\": \"849044084726\", \n",
      "      \"deviceDescription\": \"TRUSS Plate, 40mm\", \n",
      "      \"score\": 0.9798775626584062\n",
      "    }, \n",
      "    \"758924\": {\n",
      "      \"PrimaryDI\": \"849044084672\", \n",
      "      \"deviceDescription\": \"TRUSS Plate, 25mm\", \n",
      "      \"score\": 0.9979440152973302\n",
      "    }, \n",
      "    \"1069973\": {\n",
      "      \"PrimaryDI\": \"613994286123\", \n",
      "      \"deviceDescription\": \"PLATE 9873035 3HOLE 35MM\", \n",
      "      \"score\": 0.979658842862112\n",
      "    }, \n",
      "    \"1069977\": {\n",
      "      \"PrimaryDI\": \"613994286079\", \n",
      "      \"deviceDescription\": \"PLATE 9874035 4HOLE 35MM\", \n",
      "      \"score\": 0.9814469782987129\n",
      "    }\n",
      "  }\n",
      "}\n",
      "\n"
     ]
    }
   ],
   "source": [
    "headers = {'content-type': 'application/json', 'Accept-Charset': 'UTF-8'}\n",
    "r = requests.post(url, data=text, headers=headers)\n",
    "#%timeit r = requests.post(url, data=text, headers=headers)\n",
    "print(r,r.text)"
   ]
  },
  {
   "cell_type": "code",
   "execution_count": null,
   "metadata": {},
   "outputs": [],
   "source": []
  }
 ],
 "metadata": {
  "kernelspec": {
   "display_name": "Python 3",
   "language": "python",
   "name": "python3"
  },
  "language_info": {
   "codemirror_mode": {
    "name": "ipython",
    "version": 3
   },
   "file_extension": ".py",
   "mimetype": "text/x-python",
   "name": "python",
   "nbconvert_exporter": "python",
   "pygments_lexer": "ipython3",
   "version": "3.6.4"
  }
 },
 "nbformat": 4,
 "nbformat_minor": 2
}
